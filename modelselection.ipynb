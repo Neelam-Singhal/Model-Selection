{
 "metadata": {
  "language_info": {
   "codemirror_mode": {
    "name": "ipython",
    "version": 3
   },
   "file_extension": ".py",
   "mimetype": "text/x-python",
   "name": "python",
   "nbconvert_exporter": "python",
   "pygments_lexer": "ipython3",
   "version": "3.8.2"
  },
  "orig_nbformat": 2,
  "kernelspec": {
   "name": "pythonjvsc74a57bd0e905ad718a08ed27c2c36c9ef4f1f873648da9e7705f623e5afe311501acb5e0",
   "display_name": "Python 3.8.2  ('env': venv)"
  },
  "metadata": {
   "interpreter": {
    "hash": "e905ad718a08ed27c2c36c9ef4f1f873648da9e7705f623e5afe311501acb5e0"
   }
  }
 },
 "nbformat": 4,
 "nbformat_minor": 2,
 "cells": [
  {
   "source": [
    "We want to understand how under and overfitting works?"
   ],
   "cell_type": "markdown",
   "metadata": {}
  },
  {
   "cell_type": "code",
   "execution_count": 1,
   "metadata": {},
   "outputs": [],
   "source": [
    "#importing libraries \n",
    "import pandas as pd \n",
    "import numpy as np\n",
    "import matplotlib.pyplot as plt\n",
    "%matplotlib inline"
   ]
  },
  {
   "cell_type": "code",
   "execution_count": 2,
   "metadata": {},
   "outputs": [],
   "source": [
    "data = pd.read_csv('data_cleaned.csv')"
   ]
  },
  {
   "source": [
    "Segregate data between dependent and independent variables"
   ],
   "cell_type": "markdown",
   "metadata": {}
  },
  {
   "cell_type": "code",
   "execution_count": 3,
   "metadata": {},
   "outputs": [],
   "source": [
    "X = data.drop(['Survived'], axis=1)\n",
    "y = data['Survived']"
   ]
  },
  {
   "source": [
    "Now, we need to scale the data so that everything is in same measurement. Scaling the data will bring everything from -1 to 1"
   ],
   "cell_type": "markdown",
   "metadata": {}
  },
  {
   "cell_type": "code",
   "execution_count": 14,
   "metadata": {},
   "outputs": [
    {
     "output_type": "execute_result",
     "data": {
      "text/plain": [
       "Index(['Age', 'Fare', 'Pclass_1', 'Pclass_2', 'Pclass_3', 'Sex_female',\n",
       "       'Sex_male', 'SibSp_0', 'SibSp_1', 'SibSp_2', 'SibSp_3', 'SibSp_4',\n",
       "       'SibSp_5', 'SibSp_8', 'Parch_0', 'Parch_1', 'Parch_2', 'Parch_3',\n",
       "       'Parch_4', 'Parch_5', 'Parch_6', 'Embarked_C', 'Embarked_Q',\n",
       "       'Embarked_S'],\n",
       "      dtype='object')"
      ]
     },
     "metadata": {},
     "execution_count": 14
    }
   ],
   "source": [
    "X_columns = data.drop(['Survived'], axis=1).columns\n",
    "X_columns"
   ]
  },
  {
   "cell_type": "code",
   "execution_count": 4,
   "metadata": {},
   "outputs": [],
   "source": [
    "from sklearn.preprocessing import StandardScaler\n",
    "ss = StandardScaler()"
   ]
  },
  {
   "cell_type": "code",
   "execution_count": 5,
   "metadata": {},
   "outputs": [
    {
     "output_type": "execute_result",
     "data": {
      "text/plain": [
       "    Age     Fare  Pclass_1  Pclass_2  Pclass_3  Sex_female  Sex_male  SibSp_0  \\\n",
       "0  22.0   7.2500         0         0         1           0         1        0   \n",
       "1  38.0  71.2833         1         0         0           1         0        0   \n",
       "2  26.0   7.9250         0         0         1           1         0        1   \n",
       "3  35.0  53.1000         1         0         0           1         0        0   \n",
       "4  35.0   8.0500         0         0         1           0         1        1   \n",
       "\n",
       "   SibSp_1  SibSp_2  ...  Parch_0  Parch_1  Parch_2  Parch_3  Parch_4  \\\n",
       "0        1        0  ...        1        0        0        0        0   \n",
       "1        1        0  ...        1        0        0        0        0   \n",
       "2        0        0  ...        1        0        0        0        0   \n",
       "3        1        0  ...        1        0        0        0        0   \n",
       "4        0        0  ...        1        0        0        0        0   \n",
       "\n",
       "   Parch_5  Parch_6  Embarked_C  Embarked_Q  Embarked_S  \n",
       "0        0        0           0           0           1  \n",
       "1        0        0           1           0           0  \n",
       "2        0        0           0           0           1  \n",
       "3        0        0           0           0           1  \n",
       "4        0        0           0           0           1  \n",
       "\n",
       "[5 rows x 24 columns]"
      ],
      "text/html": "<div>\n<style scoped>\n    .dataframe tbody tr th:only-of-type {\n        vertical-align: middle;\n    }\n\n    .dataframe tbody tr th {\n        vertical-align: top;\n    }\n\n    .dataframe thead th {\n        text-align: right;\n    }\n</style>\n<table border=\"1\" class=\"dataframe\">\n  <thead>\n    <tr style=\"text-align: right;\">\n      <th></th>\n      <th>Age</th>\n      <th>Fare</th>\n      <th>Pclass_1</th>\n      <th>Pclass_2</th>\n      <th>Pclass_3</th>\n      <th>Sex_female</th>\n      <th>Sex_male</th>\n      <th>SibSp_0</th>\n      <th>SibSp_1</th>\n      <th>SibSp_2</th>\n      <th>...</th>\n      <th>Parch_0</th>\n      <th>Parch_1</th>\n      <th>Parch_2</th>\n      <th>Parch_3</th>\n      <th>Parch_4</th>\n      <th>Parch_5</th>\n      <th>Parch_6</th>\n      <th>Embarked_C</th>\n      <th>Embarked_Q</th>\n      <th>Embarked_S</th>\n    </tr>\n  </thead>\n  <tbody>\n    <tr>\n      <th>0</th>\n      <td>22.0</td>\n      <td>7.2500</td>\n      <td>0</td>\n      <td>0</td>\n      <td>1</td>\n      <td>0</td>\n      <td>1</td>\n      <td>0</td>\n      <td>1</td>\n      <td>0</td>\n      <td>...</td>\n      <td>1</td>\n      <td>0</td>\n      <td>0</td>\n      <td>0</td>\n      <td>0</td>\n      <td>0</td>\n      <td>0</td>\n      <td>0</td>\n      <td>0</td>\n      <td>1</td>\n    </tr>\n    <tr>\n      <th>1</th>\n      <td>38.0</td>\n      <td>71.2833</td>\n      <td>1</td>\n      <td>0</td>\n      <td>0</td>\n      <td>1</td>\n      <td>0</td>\n      <td>0</td>\n      <td>1</td>\n      <td>0</td>\n      <td>...</td>\n      <td>1</td>\n      <td>0</td>\n      <td>0</td>\n      <td>0</td>\n      <td>0</td>\n      <td>0</td>\n      <td>0</td>\n      <td>1</td>\n      <td>0</td>\n      <td>0</td>\n    </tr>\n    <tr>\n      <th>2</th>\n      <td>26.0</td>\n      <td>7.9250</td>\n      <td>0</td>\n      <td>0</td>\n      <td>1</td>\n      <td>1</td>\n      <td>0</td>\n      <td>1</td>\n      <td>0</td>\n      <td>0</td>\n      <td>...</td>\n      <td>1</td>\n      <td>0</td>\n      <td>0</td>\n      <td>0</td>\n      <td>0</td>\n      <td>0</td>\n      <td>0</td>\n      <td>0</td>\n      <td>0</td>\n      <td>1</td>\n    </tr>\n    <tr>\n      <th>3</th>\n      <td>35.0</td>\n      <td>53.1000</td>\n      <td>1</td>\n      <td>0</td>\n      <td>0</td>\n      <td>1</td>\n      <td>0</td>\n      <td>0</td>\n      <td>1</td>\n      <td>0</td>\n      <td>...</td>\n      <td>1</td>\n      <td>0</td>\n      <td>0</td>\n      <td>0</td>\n      <td>0</td>\n      <td>0</td>\n      <td>0</td>\n      <td>0</td>\n      <td>0</td>\n      <td>1</td>\n    </tr>\n    <tr>\n      <th>4</th>\n      <td>35.0</td>\n      <td>8.0500</td>\n      <td>0</td>\n      <td>0</td>\n      <td>1</td>\n      <td>0</td>\n      <td>1</td>\n      <td>1</td>\n      <td>0</td>\n      <td>0</td>\n      <td>...</td>\n      <td>1</td>\n      <td>0</td>\n      <td>0</td>\n      <td>0</td>\n      <td>0</td>\n      <td>0</td>\n      <td>0</td>\n      <td>0</td>\n      <td>0</td>\n      <td>1</td>\n    </tr>\n  </tbody>\n</table>\n<p>5 rows × 24 columns</p>\n</div>"
     },
     "metadata": {},
     "execution_count": 5
    }
   ],
   "source": [
    "#now, scale the data in independet variables.\n",
    "#Before:\n",
    "X.head()"
   ]
  },
  {
   "cell_type": "code",
   "execution_count": 15,
   "metadata": {},
   "outputs": [],
   "source": [
    "#apply scaling.\n",
    "X = ss.fit_transform(X)\n",
    "\n",
    "#convert the array back to DF\n",
    "X = pd.DataFrame(X, columns=X_columns)"
   ]
  },
  {
   "cell_type": "code",
   "execution_count": 16,
   "metadata": {},
   "outputs": [
    {
     "output_type": "execute_result",
     "data": {
      "text/plain": [
       "        Age      Fare  Pclass_1  Pclass_2  Pclass_3  Sex_female  Sex_male  \\\n",
       "0 -0.592481 -0.502445 -0.565685 -0.510152  0.902587   -0.737695  0.737695   \n",
       "1  0.638789  0.786845  1.767767 -0.510152 -1.107926    1.355574 -1.355574   \n",
       "2 -0.284663 -0.488854 -0.565685 -0.510152  0.902587    1.355574 -1.355574   \n",
       "3  0.407926  0.420730  1.767767 -0.510152 -1.107926    1.355574 -1.355574   \n",
       "4  0.407926 -0.486337 -0.565685 -0.510152  0.902587   -0.737695  0.737695   \n",
       "\n",
       "    SibSp_0   SibSp_1   SibSp_2  ...   Parch_0   Parch_1   Parch_2   Parch_3  \\\n",
       "0 -1.465746  1.806421 -0.180125  ...  0.560499 -0.390707 -0.314076 -0.075122   \n",
       "1 -1.465746  1.806421 -0.180125  ...  0.560499 -0.390707 -0.314076 -0.075122   \n",
       "2  0.682247 -0.553581 -0.180125  ...  0.560499 -0.390707 -0.314076 -0.075122   \n",
       "3 -1.465746  1.806421 -0.180125  ...  0.560499 -0.390707 -0.314076 -0.075122   \n",
       "4  0.682247 -0.553581 -0.180125  ...  0.560499 -0.390707 -0.314076 -0.075122   \n",
       "\n",
       "    Parch_4   Parch_5  Parch_6  Embarked_C  Embarked_Q  Embarked_S  \n",
       "0 -0.067153 -0.075122 -0.03352   -0.482043   -0.307562    0.615838  \n",
       "1 -0.067153 -0.075122 -0.03352    2.074505   -0.307562   -1.623803  \n",
       "2 -0.067153 -0.075122 -0.03352   -0.482043   -0.307562    0.615838  \n",
       "3 -0.067153 -0.075122 -0.03352   -0.482043   -0.307562    0.615838  \n",
       "4 -0.067153 -0.075122 -0.03352   -0.482043   -0.307562    0.615838  \n",
       "\n",
       "[5 rows x 24 columns]"
      ],
      "text/html": "<div>\n<style scoped>\n    .dataframe tbody tr th:only-of-type {\n        vertical-align: middle;\n    }\n\n    .dataframe tbody tr th {\n        vertical-align: top;\n    }\n\n    .dataframe thead th {\n        text-align: right;\n    }\n</style>\n<table border=\"1\" class=\"dataframe\">\n  <thead>\n    <tr style=\"text-align: right;\">\n      <th></th>\n      <th>Age</th>\n      <th>Fare</th>\n      <th>Pclass_1</th>\n      <th>Pclass_2</th>\n      <th>Pclass_3</th>\n      <th>Sex_female</th>\n      <th>Sex_male</th>\n      <th>SibSp_0</th>\n      <th>SibSp_1</th>\n      <th>SibSp_2</th>\n      <th>...</th>\n      <th>Parch_0</th>\n      <th>Parch_1</th>\n      <th>Parch_2</th>\n      <th>Parch_3</th>\n      <th>Parch_4</th>\n      <th>Parch_5</th>\n      <th>Parch_6</th>\n      <th>Embarked_C</th>\n      <th>Embarked_Q</th>\n      <th>Embarked_S</th>\n    </tr>\n  </thead>\n  <tbody>\n    <tr>\n      <th>0</th>\n      <td>-0.592481</td>\n      <td>-0.502445</td>\n      <td>-0.565685</td>\n      <td>-0.510152</td>\n      <td>0.902587</td>\n      <td>-0.737695</td>\n      <td>0.737695</td>\n      <td>-1.465746</td>\n      <td>1.806421</td>\n      <td>-0.180125</td>\n      <td>...</td>\n      <td>0.560499</td>\n      <td>-0.390707</td>\n      <td>-0.314076</td>\n      <td>-0.075122</td>\n      <td>-0.067153</td>\n      <td>-0.075122</td>\n      <td>-0.03352</td>\n      <td>-0.482043</td>\n      <td>-0.307562</td>\n      <td>0.615838</td>\n    </tr>\n    <tr>\n      <th>1</th>\n      <td>0.638789</td>\n      <td>0.786845</td>\n      <td>1.767767</td>\n      <td>-0.510152</td>\n      <td>-1.107926</td>\n      <td>1.355574</td>\n      <td>-1.355574</td>\n      <td>-1.465746</td>\n      <td>1.806421</td>\n      <td>-0.180125</td>\n      <td>...</td>\n      <td>0.560499</td>\n      <td>-0.390707</td>\n      <td>-0.314076</td>\n      <td>-0.075122</td>\n      <td>-0.067153</td>\n      <td>-0.075122</td>\n      <td>-0.03352</td>\n      <td>2.074505</td>\n      <td>-0.307562</td>\n      <td>-1.623803</td>\n    </tr>\n    <tr>\n      <th>2</th>\n      <td>-0.284663</td>\n      <td>-0.488854</td>\n      <td>-0.565685</td>\n      <td>-0.510152</td>\n      <td>0.902587</td>\n      <td>1.355574</td>\n      <td>-1.355574</td>\n      <td>0.682247</td>\n      <td>-0.553581</td>\n      <td>-0.180125</td>\n      <td>...</td>\n      <td>0.560499</td>\n      <td>-0.390707</td>\n      <td>-0.314076</td>\n      <td>-0.075122</td>\n      <td>-0.067153</td>\n      <td>-0.075122</td>\n      <td>-0.03352</td>\n      <td>-0.482043</td>\n      <td>-0.307562</td>\n      <td>0.615838</td>\n    </tr>\n    <tr>\n      <th>3</th>\n      <td>0.407926</td>\n      <td>0.420730</td>\n      <td>1.767767</td>\n      <td>-0.510152</td>\n      <td>-1.107926</td>\n      <td>1.355574</td>\n      <td>-1.355574</td>\n      <td>-1.465746</td>\n      <td>1.806421</td>\n      <td>-0.180125</td>\n      <td>...</td>\n      <td>0.560499</td>\n      <td>-0.390707</td>\n      <td>-0.314076</td>\n      <td>-0.075122</td>\n      <td>-0.067153</td>\n      <td>-0.075122</td>\n      <td>-0.03352</td>\n      <td>-0.482043</td>\n      <td>-0.307562</td>\n      <td>0.615838</td>\n    </tr>\n    <tr>\n      <th>4</th>\n      <td>0.407926</td>\n      <td>-0.486337</td>\n      <td>-0.565685</td>\n      <td>-0.510152</td>\n      <td>0.902587</td>\n      <td>-0.737695</td>\n      <td>0.737695</td>\n      <td>0.682247</td>\n      <td>-0.553581</td>\n      <td>-0.180125</td>\n      <td>...</td>\n      <td>0.560499</td>\n      <td>-0.390707</td>\n      <td>-0.314076</td>\n      <td>-0.075122</td>\n      <td>-0.067153</td>\n      <td>-0.075122</td>\n      <td>-0.03352</td>\n      <td>-0.482043</td>\n      <td>-0.307562</td>\n      <td>0.615838</td>\n    </tr>\n  </tbody>\n</table>\n<p>5 rows × 24 columns</p>\n</div>"
     },
     "metadata": {},
     "execution_count": 16
    }
   ],
   "source": [
    "#after\n",
    "X.head()"
   ]
  },
  {
   "cell_type": "code",
   "execution_count": 17,
   "metadata": {},
   "outputs": [],
   "source": [
    "from sklearn.model_selection import train_test_split\n",
    "train_X, test_X, train_y, test_y = train_test_split(X, y, random_state=2, stratify=y)"
   ]
  },
  {
   "cell_type": "code",
   "execution_count": null,
   "metadata": {},
   "outputs": [],
   "source": []
  }
 ]
}